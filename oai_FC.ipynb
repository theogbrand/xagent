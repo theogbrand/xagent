{
 "cells": [
  {
   "cell_type": "markdown",
   "metadata": {},
   "source": [
    "Using OAI Function Calling\n",
    "\n",
    "* https://learn.microsoft.com/en-us/azure/ai-services/openai/how-to/function-calling?tabs=python"
   ]
  },
  {
   "cell_type": "code",
   "execution_count": 6,
   "metadata": {},
   "outputs": [
    {
     "data": {
      "text/plain": [
       "True"
      ]
     },
     "execution_count": 6,
     "metadata": {},
     "output_type": "execute_result"
    }
   ],
   "source": [
    "from dotenv import load_dotenv\n",
    "load_dotenv(dotenv_path=\"../creds/.env\")"
   ]
  },
  {
   "cell_type": "code",
   "execution_count": 7,
   "metadata": {},
   "outputs": [],
   "source": [
    "from openai import AzureOpenAI\n",
    "\n",
    "azure_endpoint = \"https://cursor-gpt-4.openai.azure.com\"\n",
    "api_version=\"2024-02-15-preview\"\n",
    "\n",
    "\n",
    "client = AzureOpenAI(\n",
    "        azure_endpoint=azure_endpoint,\n",
    "        api_version=api_version,\n",
    "    )"
   ]
  },
  {
   "cell_type": "code",
   "execution_count": 5,
   "metadata": {},
   "outputs": [],
   "source": [
    "# THREE types of tools: Code Interpreter, Retrieval, Function Calling\n",
    "import os\n",
    "import json\n",
    "\n",
    "# Example function hard coded to return the same weather\n",
    "# In production, this could be your backend API or an external API\n",
    "def get_current_weather(location, unit=\"fahrenheit\"):\n",
    "    \"\"\"Get the current weather in a given location\"\"\"\n",
    "    if \"tokyo\" in location.lower():\n",
    "        return json.dumps({\"location\": \"Tokyo\", \"temperature\": \"10\", \"unit\": unit})\n",
    "    elif \"san francisco\" in location.lower():\n",
    "        return json.dumps({\"location\": \"San Francisco\", \"temperature\": \"72\", \"unit\": unit})\n",
    "    elif \"paris\" in location.lower():\n",
    "        return json.dumps({\"location\": \"Paris\", \"temperature\": \"22\", \"unit\": unit})\n",
    "    else:\n",
    "        return json.dumps({\"location\": location, \"temperature\": \"unknown\"})"
   ]
  },
  {
   "cell_type": "code",
   "execution_count": 13,
   "metadata": {},
   "outputs": [
    {
     "name": "stdout",
     "output_type": "stream",
     "text": [
      "ChatCompletionMessage(content=\"Jeff Dean is a prominent computer scientist and software engineer known for his work at Google. He has made significant contributions to the field of computer science, particularly in the areas of distributed systems, large-scale data processing, and machine learning. Jeff Dean is widely recognized for his role in developing and optimizing key technologies that power Google's infrastructure and services.\", role='assistant', function_call=None, tool_calls=None)\n"
     ]
    }
   ],
   "source": [
    "def run_conversation():\n",
    "    # Step 1: send the conversation and available functions to the model\n",
    "    # use system prompt\n",
    "    messages = [{\"role\": \"system\", \"content\": \"You're an AI assistant designed to help users return current weather. When a user asks for the weather in a given location, you should call the get_current_weather function. Don't make assumptions about what values to use with functions. Ask for clarification if a user request is ambiguous. Only use the functions you have been provided with.\"}, {\"role\": \"user\", \"content\": \"who is Jeff Dean?\"} # What's the weather like in San Francisco, Tokyo, and Paris?\n",
    "]\n",
    "    tools = [\n",
    "        {\n",
    "            \"type\": \"function\",\n",
    "            \"function\": {\n",
    "                \"name\": \"get_current_weather\",\n",
    "                \"description\": \"Get the current weather in a given location\",\n",
    "                \"parameters\": {\n",
    "                    \"type\": \"object\",\n",
    "                    \"properties\": {\n",
    "                        \"location\": {\n",
    "                            \"type\": \"string\",\n",
    "                            # mode details the better in desc\n",
    "                            # \"description\": \"The location of the hotel. The location should include the city and the state's abbreviation (i.e. Seattle, WA or Miami, FL)\"\n",
    "                            \"description\": \"The city and state, e.g. San Francisco, CA\",\n",
    "                        },\n",
    "                        \"unit\": {\"type\": \"string\", \"enum\": [\"celsius\", \"fahrenheit\"]},\n",
    "                    },\n",
    "                    \"required\": [\"location\"],\n",
    "                },\n",
    "            },\n",
    "        }\n",
    "    ]\n",
    "    \n",
    "    response = client.chat.completions.create(\n",
    "    model=\"pjf-dpo-turbo-35\",\n",
    "    messages=messages,\n",
    "    tools=tools,\n",
    "    tool_choice=\"auto\",  # auto is default, or none\n",
    "    seed=42,\n",
    "    temperature=0,\n",
    "    max_tokens =200, \n",
    "    )\n",
    "\n",
    "    response_message = response.choices[0].message\n",
    "    tool_calls = response_message.tool_calls\n",
    "    # Step 2: check if the model wanted to call a function\n",
    "    if tool_calls:\n",
    "        print(\"tools called\")\n",
    "        # Step 3: call the function\n",
    "        # Note: the JSON response may not always be valid; be sure to handle errors\n",
    "        available_functions = {\n",
    "            \"get_current_weather\": get_current_weather,\n",
    "        }  # only one function in this example, but you can have multiple\n",
    "        messages.append(response_message)  # extend conversation with assistant's reply\n",
    "        # Step 4: send the info for each function call and function response to the model\n",
    "        for tool_call in tool_calls:\n",
    "            function_name = tool_call.function.name\n",
    "            function_to_call = available_functions[function_name]\n",
    "            function_args = json.loads(tool_call.function.arguments)\n",
    "            function_response = function_to_call(\n",
    "                location=function_args.get(\"location\"),\n",
    "                unit=function_args.get(\"unit\"),\n",
    "            )\n",
    "            messages.append(\n",
    "                {\n",
    "                    \"tool_call_id\": tool_call.id,\n",
    "                    \"role\": \"tool\",\n",
    "                    \"name\": function_name,\n",
    "                    \"content\": function_response,\n",
    "                }\n",
    "            )  # extend conversation with function response\n",
    "        second_response = client.chat.completions.create(\n",
    "            model=\"pjf-dpo-turbo-35\",\n",
    "            messages=messages,\n",
    "        )  # get a new response from the model where it can see the function response\n",
    "        return second_response\n",
    "    else:\n",
    "        return response_message\n",
    "print(run_conversation())"
   ]
  },
  {
   "cell_type": "markdown",
   "metadata": {},
   "source": [
    "More complex example, JSON extraction"
   ]
  },
  {
   "cell_type": "code",
   "execution_count": 1,
   "metadata": {},
   "outputs": [],
   "source": [
    "student_custom_functions = [\n",
    "  {\n",
    "      'name': 'extract_student_info',\n",
    "      'description': 'Get the student information from the body of the input text',\n",
    "      'parameters': {\n",
    "          'type': 'object',\n",
    "          'properties': {\n",
    "              'name': {\n",
    "                  'type': 'string',\n",
    "                  'description': 'Name of the person'\n",
    "              },\n",
    "              'major': {\n",
    "                  'type': 'string',\n",
    "                  'description': 'Major subject.'\n",
    "              },\n",
    "              'school': {\n",
    "                  'type': 'string',\n",
    "                  'description': 'The university name.'\n",
    "              },\n",
    "              'grades': {\n",
    "                  'type': 'integer',\n",
    "                  'description': 'GPA of the student.'\n",
    "              },\n",
    "              'club': {\n",
    "                  'type': 'string',\n",
    "                  'description': 'School club for extracurricular activities. '\n",
    "              }\n",
    "              \n",
    "          }\n",
    "      }\n",
    "  }\n",
    "]"
   ]
  },
  {
   "cell_type": "code",
   "execution_count": 2,
   "metadata": {},
   "outputs": [],
   "source": [
    "student_1_description = \"David Nguyen is a sophomore majoring in computer science at Stanford University. He is Asian American and has a 3.8 GPA. David is known for his programming skills and is an active member of the university's Robotics Club. He hopes to pursue a career in artificial intelligence after graduating.\"\n",
    "\n",
    "student_2_description=\"Ravi Patel is a sophomore majoring in computer science at the University of Michigan. He is South Asian Indian American and has a 3.7 GPA. Ravi is an active member of the university's Chess Club and the South Asian Student Association. He hopes to pursue a career in software engineering after graduating.\""
   ]
  },
  {
   "cell_type": "code",
   "execution_count": 9,
   "metadata": {},
   "outputs": [
    {
     "name": "stdout",
     "output_type": "stream",
     "text": [
      "{'name': 'David Nguyen', 'major': 'computer science', 'school': 'Stanford University', 'grades': 3.8, 'club': 'Robotics Club'}\n",
      "{'name': 'Ravi Patel', 'major': 'computer science', 'school': 'University of Michigan', 'grades': 3.7, 'club': 'Chess Club, South Asian Student Association'}\n"
     ]
    }
   ],
   "source": [
    "import json\n",
    "\n",
    "student_description = [student_1_description,student_2_description]\n",
    "for i in student_description:\n",
    "    response = client.chat.completions.create(\n",
    "        model = 'pjf-dpo-turbo-35',\n",
    "        messages = [{'role': 'user', 'content': i}],\n",
    "        functions = student_custom_functions,\n",
    "        function_call = 'auto'\n",
    "    )\n",
    "\n",
    "    # Loading the response as a JSON object\n",
    "    json_response = json.loads(response.choices[0].message.function_call.arguments)\n",
    "    print(json_response)"
   ]
  },
  {
   "cell_type": "code",
   "execution_count": 10,
   "metadata": {},
   "outputs": [],
   "source": [
    "multiple_custom_functions = [\n",
    "    {\n",
    "        'name': 'extract_student_info',\n",
    "        'description': 'Get the student information from the body of the input text',\n",
    "        'parameters': {\n",
    "            'type': 'object',\n",
    "            'properties': {\n",
    "                'name': {\n",
    "                    'type': 'string',\n",
    "                    'description': 'Name of the person'\n",
    "                },\n",
    "                'major': {\n",
    "                    'type': 'string',\n",
    "                    'description': 'Major subject.'\n",
    "                },\n",
    "                'school': {\n",
    "                    'type': 'string',\n",
    "                    'description': 'The university name.'\n",
    "                },\n",
    "                'grades': {\n",
    "                    'type': 'integer',\n",
    "                    'description': 'GPA of the student.'\n",
    "                },\n",
    "                'club': {\n",
    "                    'type': 'string',\n",
    "                    'description': 'School club for extracurricular activities. '\n",
    "                }\n",
    "                \n",
    "            }\n",
    "        }\n",
    "    },\n",
    "    {\n",
    "        'name': 'extract_school_info',\n",
    "        'description': 'Get the school information from the body of the input text',\n",
    "        'parameters': {\n",
    "            'type': 'object',\n",
    "            'properties': {\n",
    "                'name': {\n",
    "                    'type': 'string',\n",
    "                    'description': 'Name of the school.'\n",
    "                },\n",
    "                'ranking': {\n",
    "                    'type': 'integer',\n",
    "                    'description': 'QS world ranking of the school.'\n",
    "                },\n",
    "                'country': {\n",
    "                    'type': 'string',\n",
    "                    'description': 'Country of the school.'\n",
    "                },\n",
    "                'no_of_students': {\n",
    "                    'type': 'integer',\n",
    "                    'description': 'Number of students enrolled in the school.'\n",
    "                }\n",
    "            }\n",
    "        }\n",
    "    }\n",
    "]"
   ]
  },
  {
   "cell_type": "code",
   "execution_count": 11,
   "metadata": {},
   "outputs": [],
   "source": [
    "school_1_description = \"Stanford University is a private research university located in Stanford, California, United States. It was founded in 1885 by Leland Stanford and his wife, Jane Stanford, in memory of their only child, Leland Stanford Jr. The university is ranked #5 in the world by QS World University Rankings. It has over 17,000 students, including about 7,600 undergraduates and 9,500 graduates23. \""
   ]
  },
  {
   "cell_type": "code",
   "execution_count": 13,
   "metadata": {},
   "outputs": [
    {
     "name": "stdout",
     "output_type": "stream",
     "text": [
      "{'name': 'David Nguyen', 'major': 'computer science', 'school': 'Stanford University', 'grades': 3.8, 'club': 'Robotics Club'}\n",
      "{'name': 'Stanford University', 'ranking': 5, 'country': 'United States', 'no_of_students': 17000}\n"
     ]
    }
   ],
   "source": [
    "import json\n",
    "\n",
    "student_description = [student_1_description,school_1_description]\n",
    "for i in student_description:\n",
    "    response = client.chat.completions.create(\n",
    "        model = 'pjf-dpo-turbo-35',\n",
    "        messages = [{'role': 'user', 'content': i}],\n",
    "        functions = multiple_custom_functions,\n",
    "        function_call = 'auto'\n",
    "    )\n",
    "\n",
    "    # Loading the response as a JSON object\n",
    "    json_response = json.loads(response.choices[0].message.function_call.arguments)\n",
    "    print(json_response)"
   ]
  },
  {
   "cell_type": "markdown",
   "metadata": {},
   "source": [
    "TODO:\n",
    "* execute custom SQL queries. Extract relevant information from text and provide consistent responses for API and SQL commands."
   ]
  },
  {
   "cell_type": "markdown",
   "metadata": {},
   "source": []
  }
 ],
 "metadata": {
  "kernelspec": {
   "display_name": "venv",
   "language": "python",
   "name": "python3"
  },
  "language_info": {
   "codemirror_mode": {
    "name": "ipython",
    "version": 3
   },
   "file_extension": ".py",
   "mimetype": "text/x-python",
   "name": "python",
   "nbconvert_exporter": "python",
   "pygments_lexer": "ipython3",
   "version": "3.10.11"
  }
 },
 "nbformat": 4,
 "nbformat_minor": 2
}
